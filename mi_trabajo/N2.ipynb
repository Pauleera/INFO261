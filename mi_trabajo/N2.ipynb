{
 "cells": [
  {
   "cell_type": "markdown",
   "metadata": {},
   "source": [
    "# Notebook 2 - Crear y consultar una Base de Datos Relacional con MySQL"
   ]
  },
  {
   "cell_type": "markdown",
   "metadata": {},
   "source": [
    "## Ejercicio 1\n",
    "\n",
    "<b>Requisito:</b>\n",
    "- Descargar el archivo <a href=\"./sakila-db.zip\">sakila-db.zip</a>\n",
    "\n",
    "<b>Problema: Un poco de retro-ingeniería...</b>\n",
    "\n",
    "Tienen a su disposición el archivo sakila-db.zip, lo cual contiene dos archivos:\n",
    "- 'sakila-schema.sql' : una serie de instrucciones en lenguaje SQL para crear una Base de Datos llamada 'sakila'\n",
    "- 'sakila-data.sql' : una serie de instrucciones en SQL para insertar datos en la Base de Datos\n",
    "\n",
    "A partir de estos archivos, el ejercicio consiste en deducir el Modelo Lógico de Datos (Modelo Relacional) y el Modelo Conceptual de Datos (Modelo Entidad-Asociación).\n",
    "\n",
    "- MLD: <b>por completar</b>\n",
    "\n",
    "- MCD: <b>por completar</b>\n",
    "\n",
    "- ¿De qué podría servir esta base de datos? ¿Cuál era su aplicación probable? ¿Cuál sería una adaptación posible más moderna? \n",
    "<b>por responder</b>"
   ]
  },
  {
   "cell_type": "markdown",
   "metadata": {},
   "source": [
    "## Ejercicio 2\n",
    "\n",
    "<b>Requisito:</b>\n",
    "- Haber terminado el ejercicio 2\n",
    "\n",
    "<b>Problema: ¿Cómo importar una base de datos?</b>\n",
    "\n",
    "Queremos cargar la base de datos 'sakila' a partir de los 2 archivos .sql a nuestra disposición. ¿Cómo podemos hacer?\n",
    "\n",
    "<b>Ayuda:</b> Revisar la página de documentación de MySQL que explica cómo ejecutar instrucciones SQL desde un archivo https://dev.mysql.com/doc/refman/8.0/en/mysql-batch-commands.html"
   ]
  },
  {
   "cell_type": "markdown",
   "metadata": {},
   "source": [
    "## Ejercicio 3\n",
    "\n",
    "<b>Requisito:</b>\n",
    "- Haber terminado el ejercicio 3 y haber importado los datos en su MySQL local.\n",
    "\n",
    "<b>Problema: Realizar consultas <code>SELECT</code> simple</b>\n",
    "\n",
    "Desde un entorno Python (o MySQL CLI o MySQL Workbench), realizar los comandos SQL que permiten responder a las consultas siguientes. (No olviden utilizar el comando SQL <code>USE [database-name]</code> ;-))\n",
    "\n",
    "<b> Ayuda: http://www.mysqltutorial.org/basic-mysql-tutorial.aspx</b>"
   ]
  },
  {
   "cell_type": "markdown",
   "metadata": {},
   "source": [
    "1) A partir de la tabla \"film\", mostrar solamente cuáles son los títulos de pelicula disponibles.\n",
    "\n",
    "2) A partir de la tabla \"film\", mostrar de qué años son las peliculas disponibles. NB: utilizar la instrucción <code>DISTINCT</code>\n",
    "\n",
    "3) Mostrar los títulos de pelicula en la tabla \"film\" que se puede arrendar por más de 4 días (rental_duration)\n",
    "\n",
    "4) En la tabla \"payment\", mostrar el customer_id, rental_id, amount y payment_date de todos los arriendos realizados entre las fechas 2005-07-01 y 2005-08-01"
   ]
  },
  {
   "cell_type": "code",
   "execution_count": 6,
   "metadata": {},
   "outputs": [],
   "source": [
    "import mysql.connector\n",
    "import pandas as pd\n",
    "from IPython.display import display,HTML\n",
    "\n",
    "#reemplazar 'root' por el password del usuario administrador de MySQL\n",
    "db_connection = mysql.connector.connect(user=\"root\",host=\"localhost\",password=\"root\")\n",
    "cursor = db_connection.cursor()\n",
    "cursor.execute(\"USE sakila\")"
   ]
  },
  {
   "cell_type": "markdown",
   "metadata": {},
   "source": [
    "## Ejercicio 4\n",
    "\n",
    "<b>Requisito:</b>\n",
    "- Haber terminado el ejercicio 4\n",
    "\n",
    "<b>Problema: Realizar consultas <code>SELECT</code> con funciones de agregación </b>\n",
    "\n",
    "Desde un entorno Python (o MySQL CLI o MySQL Workbench), realizar los comandos SQL que permiten responder a las consultas siguientes.\n",
    "\n",
    "<b> Ayuda: http://www.mysqltutorial.org/basic-mysql-tutorial.aspx</b>\n"
   ]
  },
  {
   "cell_type": "markdown",
   "metadata": {},
   "source": [
    "1) Contar el número de clientes en la tabla \"CUSTOMER\"\n",
    "\n",
    "2) En la tabla \"RENTAL\", contar cuánto arriendos se realizó por cada cliente (NB: utilizar la instucción <code>GROUP BY</code> y <code>COUNT</code>)\n",
    "\n",
    "3) ¿Qué devuelve la consulta SQL siguiente?\n",
    "\n",
    "<code>SELECT MAX(total) FROM (SELECT customer_id,count(*) as total FROM rental GROUP BY customer_id) as t1;</code>\n",
    "\n",
    "4) ¿Qué es un sub-consulta?\n",
    "\n",
    "5) En la tabla \"payment\", mostrar el volumen de negocio realizado por cada miembro del staff (staff_id) en total.\n",
    "\n",
    "6) En una consulta, mostrar el staff_id que ha realizado más volumen de negocio el dia 2005-08-23."
   ]
  },
  {
   "cell_type": "markdown",
   "metadata": {},
   "source": [
    "## Ejercicio 5\n",
    "\n",
    "<b>Requisito:</b>\n",
    "- Haber terminado el ejercicio 4\n",
    "\n",
    "<b>Problema: Realizar consultas <code>SELECT</code> con operaciones de JOIN </b>\n",
    "\n",
    "Desde un entorno Python (o MySQL CLI o MySQL Workbench), realizar los comandos SQL que permiten responder a las consultas siguientes.\n",
    "\n",
    "<b> Ayuda: http://www.mysqltutorial.org/basic-mysql-tutorial.aspx</b>\n"
   ]
  },
  {
   "cell_type": "markdown",
   "metadata": {},
   "source": [
    "1) En las peliculas \"Film\" y \"Language\", mostrar el título de la pelicula y el nombre de su idioma. (NB: utilizar una operación de INNER JOIN)\n",
    "\n",
    "2) Mostrar los nombres y apellidos de los clientes que han arrendado la pelicula \"CHICAGO NORTH\"\n",
    "\n",
    "3) Mostrar por cada nombres y apellidos de cliente, en qué ciudad viven (tabla Customer y City)\n",
    "\n",
    "4) Mostrar cuántas veces fueron arrendadas las peliculas (mostrando el título de la pelicula)\n",
    "\n",
    "5) Mostrar qué pelicula generó más volumen de negocio\n",
    "\n",
    "6) Mostrar los clientes que arrendar"
   ]
  }
 ],
 "metadata": {
  "kernelspec": {
   "display_name": "Python 3",
   "language": "python",
   "name": "python3"
  },
  "language_info": {
   "codemirror_mode": {
    "name": "ipython",
    "version": 3
   },
   "file_extension": ".py",
   "mimetype": "text/x-python",
   "name": "python",
   "nbconvert_exporter": "python",
   "pygments_lexer": "ipython3",
   "version": "3.6.6"
  }
 },
 "nbformat": 4,
 "nbformat_minor": 2
}
